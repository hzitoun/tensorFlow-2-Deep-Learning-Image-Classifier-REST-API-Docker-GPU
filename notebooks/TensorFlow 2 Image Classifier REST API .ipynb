{
 "cells": [
  {
   "cell_type": "markdown",
   "metadata": {},
   "source": [
    "# TensorFlow 2 Image Classifier REST API \n",
    "By Hamed ZITOUN (https://www.linkedin.com/in/hamed-zitoun/) \n",
    "\n",
    "This code for the Medium story \"🚀Create & Serve a TensorFlow 2.2 Deep Learning Classifier as a REST API (with GPU support), Part I\"\n",
    "\n",
    "👉 https://medium.com/@hzitoun/create-serve-a-tensorflow-2-2-deep-learning-classifier-as-a-rest-api-with-gpu-support-part-i-4767a8a22608 "
   ]
  },
  {
   "cell_type": "markdown",
   "metadata": {},
   "source": [
    "## 1- Import tf2 & check GPU support"
   ]
  },
  {
   "cell_type": "code",
   "execution_count": 1,
   "metadata": {},
   "outputs": [
    {
     "name": "stdout",
     "output_type": "stream",
     "text": [
      "- TensorFlow version: 2.2.0\n",
      "- GPUs detected [PhysicalDevice(name='/physical_device:GPU:0', device_type='GPU')]\n",
      "- Is TensorFlow built with CUDA?  True\n",
      "- GPU description\n"
     ]
    },
    {
     "data": {
      "text/plain": [
       "[name: \"/device:GPU:0\"\n",
       " device_type: \"GPU\"\n",
       " memory_limit: 1434376601\n",
       " locality {\n",
       "   bus_id: 1\n",
       "   links {\n",
       "   }\n",
       " }\n",
       " incarnation: 11886518309535854585\n",
       " physical_device_desc: \"device: 0, name: GeForce GTX 960M, pci bus id: 0000:01:00.0, compute capability: 5.0\"]"
      ]
     },
     "execution_count": 1,
     "metadata": {},
     "output_type": "execute_result"
    }
   ],
   "source": [
    "import tensorflow as tf\n",
    "from tensorflow.python.client import device_lib\n",
    "\n",
    "print(\"- TensorFlow version:\", tf.__version__) #check version 2.2\n",
    "\n",
    "print(\"- GPUs detected\", tf.config.list_physical_devices('GPU'))\n",
    "\n",
    "print(\"- Is TensorFlow built with CUDA? \", tf.test.is_built_with_cuda())\n",
    "\n",
    "print(\"- GPU description\")\n",
    "[x for x in device_lib.list_local_devices() if x.device_type == 'GPU'] "
   ]
  },
  {
   "cell_type": "markdown",
   "metadata": {},
   "source": [
    "## 2- Import other required libs"
   ]
  },
  {
   "cell_type": "code",
   "execution_count": 37,
   "metadata": {},
   "outputs": [
    {
     "name": "stdout",
     "output_type": "stream",
     "text": [
      "The tensorboard extension is already loaded. To reload it, use:\n",
      "  %reload_ext tensorboard\n"
     ]
    }
   ],
   "source": [
    "import os\n",
    "import datetime\n",
    "\n",
    "import numpy as np\n",
    "import cv2\n",
    "import matplotlib.pyplot as plt\n",
    "import seaborn as sns; sns.set()\n",
    "\n",
    "\n",
    "from tqdm.notebook import tqdm\n",
    "\n",
    "\n",
    "%matplotlib inline\n",
    "%load_ext tensorboard"
   ]
  },
  {
   "cell_type": "markdown",
   "metadata": {},
   "source": [
    "## 3- Load dataset"
   ]
  },
  {
   "cell_type": "code",
   "execution_count": 79,
   "metadata": {},
   "outputs": [],
   "source": [
    "def read_image(image_path, image_size):\n",
    "    \"\"\" read an image using opencv \"\"\"\n",
    "    \n",
    "    image = cv2.imread(image_path) #BGR\n",
    "    # convert to RGB\n",
    "    image = cv2.cvtColor(image, cv2.COLOR_BGR2RGB)\n",
    "    # resize using cubic interpolation, a way to deal with missing data (upsize or downsize)\n",
    "    image = cv2.resize(image, image_size, cv2.INTER_CUBIC) \n",
    "    \n",
    "    return image"
   ]
  },
  {
   "cell_type": "markdown",
   "metadata": {},
   "source": [
    "### Visualize some images"
   ]
  },
  {
   "cell_type": "code",
   "execution_count": 85,
   "metadata": {},
   "outputs": [
    {
     "data": {
      "image/png": "[encoded data removed]",
      "text/plain": [
       "<Figure size 432x288 with 3 Axes>"
      ]
     },
     "metadata": {
      "needs_background": "light"
     },
     "output_type": "display_data"
    }
   ],
   "source": [
    "deer = read_image(\"../data/raw/train/3_deer.png\", (32, 32))\n",
    "car =  read_image(\"../data/raw/train/4_automobile.png\", (32, 32)) \n",
    "bird =  read_image(\"../data/raw/train/18_bird.png\", (32, 32)) \n",
    "\n",
    "plt.subplot(131)\n",
    "plt.imshow(deer)\n",
    "plt.title('Deer')\n",
    "plt.subplot(132)\n",
    "plt.imshow(car)\n",
    "plt.title('Car')\n",
    "plt.subplot(133)\n",
    "plt.imshow(bird)\n",
    "plt.title('Bird')\n",
    "\n",
    "plt.show()"
   ]
  },
  {
   "cell_type": "code",
   "execution_count": 4,
   "metadata": {},
   "outputs": [],
   "source": [
    "def load_dataset(lables_file_path, dataset_path, image_size):\n",
    "    \"\"\" load data \"\"\"\n",
    "    \n",
    "    with open(lables_file_path,  \"r\") as f:\n",
    "        labels = f.read().splitlines() # ['airplane', 'automobile', 'bird', 'cat', 'deer', 'dog', 'frog', 'horse', 'ship', 'truck']\n",
    "        \n",
    "    images = []\n",
    "    targets = []\n",
    "\n",
    "    for image_file_name in tqdm(os.listdir(dataset_path), desc=\"loading images\", unit=\"image loading\"):\n",
    "        \n",
    "        try:\n",
    "            image_path = os.path.join(dataset_path, image_file_name)\n",
    "            images.append(read_image(image_path, image_size))\n",
    "            \n",
    "            for idx in range(len(labels)):\n",
    "                if labels[idx] in image_file_name: #image file name contains its label\n",
    "                    targets.append(idx)\n",
    "        except Exception as e:\n",
    "            pass\n",
    "       \n",
    "    return np.array(images), np.array(targets)"
   ]
  },
  {
   "cell_type": "code",
   "execution_count": 5,
   "metadata": {},
   "outputs": [
    {
     "data": {
      "application/vnd.jupyter.widget-view+json": {
       "model_id": "1533a29282ee45e8a466e9cf9331a506",
       "version_major": 2,
       "version_minor": 0
      },
      "text/plain": [
       "HBox(children=(FloatProgress(value=0.0, description='loading images', max=50000.0, style=ProgressStyle(descrip…"
      ]
     },
     "metadata": {},
     "output_type": "display_data"
    },
    {
     "name": "stdout",
     "output_type": "stream",
     "text": [
      "\n"
     ]
    },
    {
     "data": {
      "application/vnd.jupyter.widget-view+json": {
       "model_id": "1f44d44b24a84191982267a3903a1945",
       "version_major": 2,
       "version_minor": 0
      },
      "text/plain": [
       "HBox(children=(FloatProgress(value=0.0, description='loading images', max=10000.0, style=ProgressStyle(descrip…"
      ]
     },
     "metadata": {},
     "output_type": "display_data"
    },
    {
     "name": "stdout",
     "output_type": "stream",
     "text": [
      "\n"
     ]
    }
   ],
   "source": [
    "X_train, y_train= load_dataset(\"../data/raw/labels.txt\", \"../data/raw/train\", (32, 32))\n",
    "X_test, y_test= load_dataset(\"../data/raw/labels.txt\", \"../data/raw/test\", (32, 32))"
   ]
  },
  {
   "cell_type": "code",
   "execution_count": 6,
   "metadata": {},
   "outputs": [
    {
     "name": "stdout",
     "output_type": "stream",
     "text": [
      "training data shapes\n",
      "(50000, 32, 32, 3)\n",
      "(50000,)\n",
      "test data shapes\n",
      "(10000, 32, 32, 3)\n",
      "(10000,)\n"
     ]
    }
   ],
   "source": [
    "print(\"training data shapes\")\n",
    "print(X_train.shape) # 50000 images, 32x32 size with 3 channels \n",
    "print(y_train.shape) # 50000 class indexes\n",
    "print(\"test data shapes\")\n",
    "print(X_test.shape) # 10000 images, 32x32 size with 3 channels \n",
    "print(y_test.shape) # 10000 class indexes"
   ]
  },
  {
   "cell_type": "markdown",
   "metadata": {},
   "source": [
    "## 4- Create an Image Classification Deep Learning Model\n",
    "\n",
    "![image.png](https://github.com/deep-diver/CIFAR10-img-classification-tensorflow/raw/master/conv_model.png) \n",
    "\n",
    "Image credit https://github.com/deep-diver/CIFAR10-img-classification-tensorflow/raw/master/conv_model.png "
   ]
  },
  {
   "cell_type": "markdown",
   "metadata": {},
   "source": [
    "### Define a Convolutional block"
   ]
  },
  {
   "cell_type": "code",
   "execution_count": 7,
   "metadata": {},
   "outputs": [],
   "source": [
    "def conv_block(previous_layer_output, number_of_filters, kernel_size, \n",
    "               strides=(1, 1), padding=\"SAME\", \n",
    "               activation = tf.keras.layers.Activation('relu'),\n",
    "               layer_name=\"conv_layer\"):\n",
    "    '''  \n",
    "    Defines convolutional layer with max pooling and batch noramlization\n",
    "    '''\n",
    "\n",
    "    layer = tf.keras.layers.Conv2D(filters=number_of_filters,\n",
    "                                                   kernel_size=kernel_size,\n",
    "                                                   strides=strides, \n",
    "                                                   padding=padding, # \"VALID\" = without padding, \"SAME\" = with zero padding\n",
    "                                                   activation=activation, name=layer_name)(previous_layer_output)\n",
    "    layer = tf.keras.layers.MaxPool2D(pool_size=(2, 2), strides=(2, 2), padding='SAME')(layer)\n",
    "    layer = tf.keras.layers.BatchNormalization()(layer)\n",
    "        \n",
    "    return layer"
   ]
  },
  {
   "cell_type": "markdown",
   "metadata": {},
   "source": [
    "### Define a Dense block"
   ]
  },
  {
   "cell_type": "code",
   "execution_count": 8,
   "metadata": {},
   "outputs": [],
   "source": [
    "def dense_block(previous_layer_output,\n",
    "                units, \n",
    "                activation = tf.keras.layers.Activation('relu'),\n",
    "                drop_out_rate=0.3, layer_name=\"dense_layer\"):\n",
    "    \"\"\"\n",
    "    Defines dense block layer.\n",
    "    \"\"\"\n",
    "    \n",
    "    layer = dense_features = tf.keras.layers.Dense(units=units, activation=activation, name=layer_name)(previous_layer_output)\n",
    "    layer = tf.keras.layers.Dropout(rate=drop_out_rate)(layer)\n",
    "    layer = tf.keras.layers.BatchNormalization()(layer)\n",
    "        \n",
    "    return layer"
   ]
  },
  {
   "cell_type": "markdown",
   "metadata": {},
   "source": [
    "### Method for creating our CNN classifier "
   ]
  },
  {
   "cell_type": "code",
   "execution_count": 9,
   "metadata": {},
   "outputs": [],
   "source": [
    "def create_model(image_size, drop_out_rate, number_of_classes):\n",
    "    \"\"\" \n",
    "    Create a Keras model with 4 conv blocks, 1 flatten layer, 4 dense blocks and softmax ouput\n",
    "    \"\"\"\n",
    "  \n",
    "    inputs = tf.keras.Input(shape=(image_size[0], image_size[1], 3), dtype=tf.float32, name=\"inputs\")\n",
    "    normalized_images = tf.keras.layers.BatchNormalization()(inputs)\n",
    "    \n",
    "    # conv block 1\n",
    "    conv_block_1 = conv_block(normalized_images, \n",
    "                                                   number_of_filters=64, \n",
    "                                                   kernel_size=(3, 3), \n",
    "                                                   strides=(1, 1), padding=\"SAME\", \n",
    "                                                   activation = tf.keras.layers.Activation('relu'),\n",
    "                                                   layer_name=\"conv_1_features\")\n",
    "    # conv block 2\n",
    "    conv_block_2 = conv_block(conv_block_1, \n",
    "                                                   number_of_filters=128, \n",
    "                                                   kernel_size=(3, 3), \n",
    "                                                   strides=(1, 1), padding=\"SAME\", \n",
    "                                                   activation = tf.keras.layers.Activation('relu'),\n",
    "                                                   layer_name=\"conv_2_features\")\n",
    "    \n",
    "    # conv block 3\n",
    "    conv_block_3 = conv_block(conv_block_2, \n",
    "                                                   number_of_filters=256, \n",
    "                                                   kernel_size=(5, 5), \n",
    "                                                   strides=(1, 1), padding=\"SAME\", \n",
    "                                                   activation = tf.keras.layers.Activation('relu'),\n",
    "                                                   layer_name=\"conv_3_features\")\n",
    "    \n",
    "    # conv block 4\n",
    "    conv_block_4 = conv_block(conv_block_3, \n",
    "                                                   number_of_filters=512, \n",
    "                                                   kernel_size=(5, 5), \n",
    "                                                   strides=(1, 1), padding=\"SAME\", \n",
    "                                                   activation = tf.keras.layers.Activation('relu'),\n",
    "                                                   layer_name=\"conv_4_features\")\n",
    "    \n",
    "    # flatten : reshape to on single vector (see model architecture above)\n",
    "    flat_layer = tf.keras.layers.Flatten()(conv_block_4)\n",
    "   \n",
    "    \n",
    "    # Dense block 1\n",
    "    dense_block_1 = dense_block(flat_layer,\n",
    "                                                        units=128,\n",
    "                                                        activation= tf.keras.layers.Activation('relu'),\n",
    "                                                        drop_out_rate=drop_out_rate,\n",
    "                                                        layer_name=\"dense_1_features\")\n",
    "    \n",
    "    # Dense block 2\n",
    "    dense_block_2 = dense_block(dense_block_1,\n",
    "                                                        units=256,\n",
    "                                                        activation= tf.keras.layers.Activation('relu'),\n",
    "                                                        drop_out_rate=drop_out_rate,\n",
    "                                                        layer_name=\"dense_2_features\")\n",
    "    \n",
    "    # Dense block 3\n",
    "    dense_block_3 = dense_block(dense_block_2,\n",
    "                                                        units=512,\n",
    "                                                        activation= tf.keras.layers.Activation('relu'),\n",
    "                                                        drop_out_rate=drop_out_rate,\n",
    "                                                        layer_name=\"dense_3_features\")\n",
    "    \n",
    "    # Dense block 4\n",
    "    dense_block_4 = dense_block(dense_block_3,\n",
    "                                                        units=1024,\n",
    "                                                        activation= tf.keras.layers.Activation('relu'),\n",
    "                                                        drop_out_rate=drop_out_rate,\n",
    "                                                        layer_name=\"dense_4_features\")\n",
    "    # logits layer (the layer that feeds into softmax)\n",
    "    logits = tf.keras.layers.Dense(units=number_of_classes, activation=None)(dense_block_4)\n",
    "    \n",
    "    predictions = tf.keras.layers.Softmax()(logits)\n",
    "    \n",
    "    # Instantiate a Keras model\n",
    "    return tf.keras.Model(inputs=inputs, outputs=predictions, name=\"keras_image_classification_model\")"
   ]
  },
  {
   "cell_type": "markdown",
   "metadata": {},
   "source": [
    "### Define hyperameters"
   ]
  },
  {
   "cell_type": "code",
   "execution_count": 94,
   "metadata": {},
   "outputs": [],
   "source": [
    "epochs = 50 # back to 5\n",
    "learning_rate = 0.0001\n",
    "decay=1e-6\n",
    "batch_size = 512 # change it depending on your RAM\n",
    "drop_out_rate = 0.6\n",
    "image_size = (32, 32)"
   ]
  },
  {
   "cell_type": "markdown",
   "metadata": {},
   "source": [
    "### Instantiate CNN classifier"
   ]
  },
  {
   "cell_type": "code",
   "execution_count": 11,
   "metadata": {},
   "outputs": [
    {
     "name": "stdout",
     "output_type": "stream",
     "text": [
      "Model: \"keras_image_classification_model\"\n",
      "_________________________________________________________________\n",
      "Layer (type)                 Output Shape              Param #   \n",
      "=================================================================\n",
      "inputs (InputLayer)          [(None, 32, 32, 3)]       0         \n",
      "_________________________________________________________________\n",
      "batch_normalization (BatchNo (None, 32, 32, 3)         12        \n",
      "_________________________________________________________________\n",
      "conv_1_features (Conv2D)     (None, 32, 32, 64)        1792      \n",
      "_________________________________________________________________\n",
      "max_pooling2d (MaxPooling2D) (None, 16, 16, 64)        0         \n",
      "_________________________________________________________________\n",
      "batch_normalization_1 (Batch (None, 16, 16, 64)        256       \n",
      "_________________________________________________________________\n",
      "conv_2_features (Conv2D)     (None, 16, 16, 128)       73856     \n",
      "_________________________________________________________________\n",
      "max_pooling2d_1 (MaxPooling2 (None, 8, 8, 128)         0         \n",
      "_________________________________________________________________\n",
      "batch_normalization_2 (Batch (None, 8, 8, 128)         512       \n",
      "_________________________________________________________________\n",
      "conv_3_features (Conv2D)     (None, 8, 8, 256)         819456    \n",
      "_________________________________________________________________\n",
      "max_pooling2d_2 (MaxPooling2 (None, 4, 4, 256)         0         \n",
      "_________________________________________________________________\n",
      "batch_normalization_3 (Batch (None, 4, 4, 256)         1024      \n",
      "_________________________________________________________________\n",
      "conv_4_features (Conv2D)     (None, 4, 4, 512)         3277312   \n",
      "_________________________________________________________________\n",
      "max_pooling2d_3 (MaxPooling2 (None, 2, 2, 512)         0         \n",
      "_________________________________________________________________\n",
      "batch_normalization_4 (Batch (None, 2, 2, 512)         2048      \n",
      "_________________________________________________________________\n",
      "flatten (Flatten)            (None, 2048)              0         \n",
      "_________________________________________________________________\n",
      "dense_1_features (Dense)     (None, 128)               262272    \n",
      "_________________________________________________________________\n",
      "dropout (Dropout)            (None, 128)               0         \n",
      "_________________________________________________________________\n",
      "batch_normalization_5 (Batch (None, 128)               512       \n",
      "_________________________________________________________________\n",
      "dense_2_features (Dense)     (None, 256)               33024     \n",
      "_________________________________________________________________\n",
      "dropout_1 (Dropout)          (None, 256)               0         \n",
      "_________________________________________________________________\n",
      "batch_normalization_6 (Batch (None, 256)               1024      \n",
      "_________________________________________________________________\n",
      "dense_3_features (Dense)     (None, 512)               131584    \n",
      "_________________________________________________________________\n",
      "dropout_2 (Dropout)          (None, 512)               0         \n",
      "_________________________________________________________________\n",
      "batch_normalization_7 (Batch (None, 512)               2048      \n",
      "_________________________________________________________________\n",
      "dense_4_features (Dense)     (None, 1024)              525312    \n",
      "_________________________________________________________________\n",
      "dropout_3 (Dropout)          (None, 1024)              0         \n",
      "_________________________________________________________________\n",
      "batch_normalization_8 (Batch (None, 1024)              4096      \n",
      "_________________________________________________________________\n",
      "dense (Dense)                (None, 10)                10250     \n",
      "_________________________________________________________________\n",
      "softmax (Softmax)            (None, 10)                0         \n",
      "=================================================================\n",
      "Total params: 5,146,390\n",
      "Trainable params: 5,140,624\n",
      "Non-trainable params: 5,766\n",
      "_________________________________________________________________\n"
     ]
    }
   ],
   "source": [
    "model = create_model(image_size=image_size, drop_out_rate=drop_out_rate, number_of_classes=10)\n",
    "model.summary()"
   ]
  },
  {
   "cell_type": "markdown",
   "metadata": {},
   "source": [
    "### Compile model"
   ]
  },
  {
   "cell_type": "code",
   "execution_count": 92,
   "metadata": {},
   "outputs": [],
   "source": [
    "# learning_rate and decay is defined above in the hyperparameters definition section\n",
    "model.compile(optimizer=tf.keras.optimizers.RMSprop(learning_rate=learning_rate, decay=decay), loss=tf.keras.losses.SparseCategoricalCrossentropy(), metrics=[\"accuracy\"])"
   ]
  },
  {
   "cell_type": "markdown",
   "metadata": {},
   "source": [
    "### Training the model"
   ]
  },
  {
   "cell_type": "code",
   "execution_count": 95,
   "metadata": {},
   "outputs": [
    {
     "data": {
      "application/vnd.jupyter.widget-view+json": {
       "model_id": "63112bc870434deab97316981eea5b9a",
       "version_major": 2,
       "version_minor": 0
      },
      "text/plain": [
       "HBox(children=(FloatProgress(value=0.0, max=50.0), HTML(value='')))"
      ]
     },
     "metadata": {},
     "output_type": "display_data"
    },
    {
     "data": {
      "application/vnd.jupyter.widget-view+json": {
       "model_id": "",
       "version_major": 2,
       "version_minor": 0
      },
      "text/plain": [
       "HBox(children=(FloatProgress(value=1.0, bar_style='info', max=1.0), HTML(value='')))"
      ]
     },
     "metadata": {},
     "output_type": "display_data"
    },
    {
     "name": "stdout",
     "output_type": "stream",
     "text": [
      "\n"
     ]
    },
    {
     "data": {
      "text/plain": [
       "<tensorflow.python.keras.callbacks.History at 0x1e4beb5cac8>"
      ]
     },
     "execution_count": 95,
     "metadata": {},
     "output_type": "execute_result"
    }
   ],
   "source": [
    "from tqdm.keras import TqdmCallback\n",
    "from tensorflow.keras.callbacks import ModelCheckpoint\n",
    "\n",
    "early_stopping_callback = tf.keras.callbacks.EarlyStopping(monitor='accuracy', patience=5, \n",
    "                                                           restore_best_weights=True)\n",
    "\n",
    "logdir = os.path.join(\"logs\", datetime.datetime.now().strftime(\"%Y%m%d-%H%M%S\"))\n",
    "tensorboard_callback = tf.keras.callbacks.TensorBoard(logdir, histogram_freq=1)\n",
    "\n",
    "model.fit(x=X_train, y=y_train,\n",
    "    batch_size=batch_size, # variable defined above\n",
    "    epochs=epochs, # variable defined above\n",
    "    verbose=0,\n",
    "    shuffle=True,\n",
    "    validation_data=(X_test, y_test),\n",
    "    callbacks=[TqdmCallback(verbose=1, epochs=epochs, batch_size=batch_size), early_stopping_callback, tensorboard_callback])"
   ]
  },
  {
   "cell_type": "code",
   "execution_count": 89,
   "metadata": {},
   "outputs": [
    {
     "data": {
      "text/plain": [
       "Reusing TensorBoard on port 6006 (pid 13180), started 1:27:12 ago. (Use '!kill 13180' to kill it.)"
      ]
     },
     "metadata": {},
     "output_type": "display_data"
    },
    {
     "data": {
      "text/html": [
       "\n",
       "      <iframe id=\"tensorboard-frame-538e4cfa37beddcd\" width=\"100%\" height=\"800\" frameborder=\"0\">\n",
       "      </iframe>\n",
       "      <script>\n",
       "        (function() {\n",
       "          const frame = document.getElementById(\"tensorboard-frame-538e4cfa37beddcd\");\n",
       "          const url = new URL(\"/\", window.location);\n",
       "          url.port = 6006;\n",
       "          frame.src = url;\n",
       "        })();\n",
       "      </script>\n",
       "  "
      ],
      "text/plain": [
       "<IPython.core.display.HTML object>"
      ]
     },
     "metadata": {},
     "output_type": "display_data"
    }
   ],
   "source": [
    "%tensorboard --logdir logs"
   ]
  },
  {
   "cell_type": "markdown",
   "metadata": {},
   "source": [
    "### Evaluate the model"
   ]
  },
  {
   "cell_type": "code",
   "execution_count": 96,
   "metadata": {},
   "outputs": [
    {
     "name": "stdout",
     "output_type": "stream",
     "text": [
      "              precision    recall  f1-score   support\n",
      "\n",
      "    airplane       0.84      0.86      0.85      1000\n",
      "  automobile       0.92      0.92      0.92      1000\n",
      "        bird       0.76      0.72      0.74      1000\n",
      "         cat       0.63      0.67      0.65      1000\n",
      "        deer       0.80      0.81      0.80      1000\n",
      "         dog       0.74      0.72      0.73      1000\n",
      "        frog       0.86      0.86      0.86      1000\n",
      "       horse       0.87      0.86      0.86      1000\n",
      "        ship       0.91      0.90      0.91      1000\n",
      "       truck       0.88      0.89      0.88      1000\n",
      "\n",
      "    accuracy                           0.82     10000\n",
      "   macro avg       0.82      0.82      0.82     10000\n",
      "weighted avg       0.82      0.82      0.82     10000\n",
      "\n"
     ]
    }
   ],
   "source": [
    "from sklearn.metrics import classification_report\n",
    "\n",
    "y_pred = model.predict(X_test)\n",
    "y_pred = np.argmax(y_pred, axis=1)\n",
    "\n",
    "\n",
    "target_names = ['airplane', 'automobile', 'bird', 'cat', 'deer', 'dog', 'frog', 'horse', 'ship', 'truck']\n",
    "print(classification_report(y_test, y_pred, target_names=target_names))"
   ]
  },
  {
   "cell_type": "markdown",
   "metadata": {},
   "source": [
    "### Make a test inference"
   ]
  },
  {
   "cell_type": "code",
   "execution_count": 107,
   "metadata": {},
   "outputs": [
    {
     "data": {
      "image/png": "[encoded data removed]",
      "text/plain": [
       "<Figure size 432x288 with 1 Axes>"
      ]
     },
     "metadata": {
      "needs_background": "light"
     },
     "output_type": "display_data"
    },
    {
     "name": "stdout",
     "output_type": "stream",
     "text": [
      "CNN sees automobile\n"
     ]
    }
   ],
   "source": [
    "test_image =  read_image(\"../data/raw/test/82_automobile.png\", image_size) \n",
    "plt.imshow(test_image)\n",
    "plt.title('test image')\n",
    "plt.show()\n",
    "\n",
    "pred_softmax = model.predict(test_image.reshape(1, image_size[0], image_size[1], 3))\n",
    "pred_class_index = np.argmax(pred_softmax, axis=1)\n",
    "\n",
    "target_names = ['airplane', 'automobile', 'bird', 'cat', 'deer', 'dog', 'frog', 'horse', 'ship', 'truck']\n",
    "print(\"CNN sees\", target_names[pred_class_index.item()])"
   ]
  },
  {
   "cell_type": "markdown",
   "metadata": {},
   "source": [
    "## Export the model"
   ]
  },
  {
   "cell_type": "code",
   "execution_count": 110,
   "metadata": {},
   "outputs": [
    {
     "name": "stdout",
     "output_type": "stream",
     "text": [
      "INFO:tensorflow:Assets written to: ../models/saved_image_classifier/assets\n"
     ]
    }
   ],
   "source": [
    "model.save('../models/saved_image_classifier/')"
   ]
  },
  {
   "cell_type": "markdown",
   "metadata": {},
   "source": [
    "### Check if it can be correctly loaded! "
   ]
  },
  {
   "cell_type": "code",
   "execution_count": 114,
   "metadata": {},
   "outputs": [
    {
     "name": "stdout",
     "output_type": "stream",
     "text": [
      "Accuracy: 82.02%\n"
     ]
    }
   ],
   "source": [
    "loaded_model = tf.keras.models.load_model('../models/saved_image_classifier/')\n",
    "loss, acc = loaded_model.evaluate(X_test,  y_test, verbose=0)\n",
    "print('Accuracy: {:5.2f}%'.format(100*acc))"
   ]
  }
 ],
 "metadata": {
  "kernelspec": {
   "display_name": "Python 3",
   "language": "python",
   "name": "python3"
  },
  "language_info": {
   "codemirror_mode": {
    "name": "ipython",
    "version": 3
   },
   "file_extension": ".py",
   "mimetype": "text/x-python",
   "name": "python",
   "nbconvert_exporter": "python",
   "pygments_lexer": "ipython3",
   "version": "3.7.1"
  }
 },
 "nbformat": 4,
 "nbformat_minor": 4
}
